{
 "cells": [
  {
   "cell_type": "code",
   "execution_count": 1,
   "id": "686434e2-006b-49a4-8533-29c2bf5c2d17",
   "metadata": {},
   "outputs": [
    {
     "name": "stdout",
     "output_type": "stream",
     "text": [
      "{'name': 'jahangir', 'age': 23}\n"
     ]
    }
   ],
   "source": [
    "my_dic={'name':'jahangir','age':23}\n",
    "print(my_dic)"
   ]
  },
  {
   "cell_type": "code",
   "execution_count": 11,
   "id": "33f16cce-c4ff-4862-85e1-370a0baea510",
   "metadata": {},
   "outputs": [
    {
     "name": "stdout",
     "output_type": "stream",
     "text": [
      "jahangir\n",
      "23\n"
     ]
    }
   ],
   "source": [
    "print(my_dic['name'])\n",
    "print(my_dic.get('age'))"
   ]
  },
  {
   "cell_type": "code",
   "execution_count": null,
   "id": "905dbca8-0705-4f81-95aa-aeb6cc084423",
   "metadata": {},
   "outputs": [],
   "source": []
  }
 ],
 "metadata": {
  "kernelspec": {
   "display_name": "Python 3 (ipykernel)",
   "language": "python",
   "name": "python3"
  },
  "language_info": {
   "codemirror_mode": {
    "name": "ipython",
    "version": 3
   },
   "file_extension": ".py",
   "mimetype": "text/x-python",
   "name": "python",
   "nbconvert_exporter": "python",
   "pygments_lexer": "ipython3",
   "version": "3.12.3"
  },
  "widgets": {
   "application/vnd.jupyter.widget-state+json": {
    "state": {},
    "version_major": 2,
    "version_minor": 0
   }
  }
 },
 "nbformat": 4,
 "nbformat_minor": 5
}
