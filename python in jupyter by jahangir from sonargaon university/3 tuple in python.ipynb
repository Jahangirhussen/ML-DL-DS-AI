{
 "cells": [
  {
   "cell_type": "code",
   "execution_count": 1,
   "id": "99096cc6-bd48-4254-905e-c837698f08bf",
   "metadata": {},
   "outputs": [
    {
     "name": "stdout",
     "output_type": "stream",
     "text": [
      "('jahangir', 5, 0, 1, 1, True)\n"
     ]
    }
   ],
   "source": [
    "tuple1=('jahangir',5,0,1,1,True)\n",
    "print(tuple1)"
   ]
  },
  {
   "cell_type": "code",
   "execution_count": 2,
   "id": "5d45b76e-bb37-4b04-9062-8de5e45e816e",
   "metadata": {},
   "outputs": [
    {
     "name": "stdout",
     "output_type": "stream",
     "text": [
      "0\n"
     ]
    }
   ],
   "source": [
    "print(tuple1[2])\n"
   ]
  },
  {
   "cell_type": "code",
   "execution_count": 3,
   "id": "f6db3671-b100-4323-8df6-f1e389b29055",
   "metadata": {},
   "outputs": [
    {
     "name": "stdout",
     "output_type": "stream",
     "text": [
      "Original tuple: ('jahangir', 5, 0, 1, 1, True)\n",
      "Modified tuple: ('jahangir', 5, 35, 1, 1, True)\n"
     ]
    }
   ],
   "source": [
    "# Change the third element (index 2) to 35\n",
    "new_tuple = tuple1[:2] + (35,) + tuple1[3:] #here  start to 2nd index than add 35 thn 3 inden tho add in new variable\n",
    "\n",
    "print(\"Original tuple:\", tuple1)\n",
    "print(\"Modified tuple:\", new_tuple)\n"
   ]
  },
  {
   "cell_type": "code",
   "execution_count": 4,
   "id": "c17bedd2-ffc4-47e9-91a8-647283dc3fc8",
   "metadata": {},
   "outputs": [
    {
     "name": "stdout",
     "output_type": "stream",
     "text": [
      "cheking result is true\n",
      "cheking result is flese\n"
     ]
    }
   ],
   "source": [
    "if \"jahangir\" in tuple1:\n",
    "  print(\"cheking result is true\")\n",
    "else:\n",
    "  print(\"cheking result is flase\")\n",
    "\n",
    "if \"hussen\" in tuple1:\n",
    "  print(\"cheking result is true\")\n",
    "else:\n",
    "  print(\"cheking result is flese\")"
   ]
  },
  {
   "cell_type": "code",
   "execution_count": 12,
   "id": "ab207af9-6447-43c7-a431-f9f519929153",
   "metadata": {},
   "outputs": [
    {
     "name": "stdout",
     "output_type": "stream",
     "text": [
      "1 ami\n",
      "Packed tuple: (1, 2, 3)\n",
      "1 2\n",
      "Unpacked values: 1 2 3\n",
      "(1, 2, 3)\n"
     ]
    }
   ],
   "source": [
    "# Packing\n",
    "a, b, c,d,e = 1, 2, 3,7,'ami'\n",
    "packed_tuple = a, b, c\n",
    "print(a,e)\n",
    "print(\"Packed tuple:\", packed_tuple)\n",
    "print(a,b)\n",
    "\n",
    "# Unpacking\n",
    "unpacked_a, unpacked_b, unpacked_c = packed_tuple\n",
    "print(\"Unpacked values:\", unpacked_a, unpacked_b, unpacked_c)\n",
    "print(packed_tuple)\n"
   ]
  }
 ],
 "metadata": {
  "kernelspec": {
   "display_name": "Python 3 (ipykernel)",
   "language": "python",
   "name": "python3"
  },
  "language_info": {
   "codemirror_mode": {
    "name": "ipython",
    "version": 3
   },
   "file_extension": ".py",
   "mimetype": "text/x-python",
   "name": "python",
   "nbconvert_exporter": "python",
   "pygments_lexer": "ipython3",
   "version": "3.12.3"
  },
  "widgets": {
   "application/vnd.jupyter.widget-state+json": {
    "state": {},
    "version_major": 2,
    "version_minor": 0
   }
  }
 },
 "nbformat": 4,
 "nbformat_minor": 5
}
