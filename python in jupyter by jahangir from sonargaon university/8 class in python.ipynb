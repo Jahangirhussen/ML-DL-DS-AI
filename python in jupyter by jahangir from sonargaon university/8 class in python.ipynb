{
 "cells": [
  {
   "cell_type": "code",
   "execution_count": 4,
   "id": "ca3b89dc-8621-498c-8548-a1811a030839",
   "metadata": {},
   "outputs": [
    {
     "name": "stdout",
     "output_type": "stream",
     "text": [
      "Hello This is : Mr Shadesh\n"
     ]
    }
   ],
   "source": [
    "class per:\n",
    "    def __init__(self, name, age):\n",
    "        self.name = name\n",
    "        self.age = age\n",
    "    \n",
    "    def myf(self):\n",
    "        print('Hello This is : ' + self.name)\n",
    "        \n",
    "p1 = per('Mr Shadesh', 24)\n",
    "p1.myf()"
   ]
  },
  {
   "cell_type": "code",
   "execution_count": null,
   "id": "74e905ca-3e20-449f-8d7b-10c53014e3f3",
   "metadata": {},
   "outputs": [],
   "source": []
  }
 ],
 "metadata": {
  "kernelspec": {
   "display_name": "Python 3 (ipykernel)",
   "language": "python",
   "name": "python3"
  },
  "language_info": {
   "codemirror_mode": {
    "name": "ipython",
    "version": 3
   },
   "file_extension": ".py",
   "mimetype": "text/x-python",
   "name": "python",
   "nbconvert_exporter": "python",
   "pygments_lexer": "ipython3",
   "version": "3.12.3"
  },
  "widgets": {
   "application/vnd.jupyter.widget-state+json": {
    "state": {},
    "version_major": 2,
    "version_minor": 0
   }
  }
 },
 "nbformat": 4,
 "nbformat_minor": 5
}
