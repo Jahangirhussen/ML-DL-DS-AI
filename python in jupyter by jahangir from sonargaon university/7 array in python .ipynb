{
 "cells": [
  {
   "cell_type": "code",
   "execution_count": 1,
   "id": "f9d869e0-4e64-4d26-8fb7-093db8f2d28d",
   "metadata": {},
   "outputs": [],
   "source": [
    "import array as arr"
   ]
  },
  {
   "cell_type": "code",
   "execution_count": 2,
   "id": "f0a136bf-081d-49e7-8a89-c39d5f1116cb",
   "metadata": {},
   "outputs": [
    {
     "name": "stdout",
     "output_type": "stream",
     "text": [
      "array('i', [0, 9, 40, 5, 40, 99, 40, 9, 5])\n"
     ]
    }
   ],
   "source": [
    "array1=arr.array('i',[0,9,40,5,40,99,40,9,5])\n",
    "print(array1)"
   ]
  },
  {
   "cell_type": "code",
   "execution_count": 3,
   "id": "2803cba2-b098-4925-a105-0ba2d3bf0f16",
   "metadata": {},
   "outputs": [
    {
     "name": "stdout",
     "output_type": "stream",
     "text": [
      "the value of array1 [3] is  5 \n"
     ]
    }
   ],
   "source": [
    "print(\"the value of array1 [3] is  {} \".format(array1[3]))"
   ]
  },
  {
   "cell_type": "code",
   "execution_count": 4,
   "id": "328259e1-6187-4b65-9776-dde923aa3b26",
   "metadata": {},
   "outputs": [
    {
     "name": "stdout",
     "output_type": "stream",
     "text": [
      "insert array('i', [999, 0, 9, 40, 5, 40, 99, 40, 9, 5])\n",
      "2\n"
     ]
    }
   ],
   "source": [
    "array1.insert(0,999)\n",
    "print('insert',array1)\n",
    "print(array1.index(9))"
   ]
  },
  {
   "cell_type": "code",
   "execution_count": 5,
   "id": "a1638560-1a4c-4020-84b7-7b3f05c8631c",
   "metadata": {},
   "outputs": [
    {
     "name": "stdout",
     "output_type": "stream",
     "text": [
      "remove array('i', [999, 0, 9, 5, 40, 99, 40, 9, 5])\n",
      "pop array('i', [999, 0, 9, 5, 40, 40, 9, 5])\n"
     ]
    }
   ],
   "source": [
    "array1.remove(40)#remove only firt index which value we want\n",
    "print('remove',array1)\n",
    "array1.pop(5)\n",
    "print('pop',array1) #pop remove index value"
   ]
  },
  {
   "cell_type": "code",
   "execution_count": null,
   "id": "54e14cea-eeb5-4328-a6cd-13efe96a1313",
   "metadata": {},
   "outputs": [],
   "source": []
  }
 ],
 "metadata": {
  "kernelspec": {
   "display_name": "Python 3 (ipykernel)",
   "language": "python",
   "name": "python3"
  },
  "language_info": {
   "codemirror_mode": {
    "name": "ipython",
    "version": 3
   },
   "file_extension": ".py",
   "mimetype": "text/x-python",
   "name": "python",
   "nbconvert_exporter": "python",
   "pygments_lexer": "ipython3",
   "version": "3.12.3"
  },
  "widgets": {
   "application/vnd.jupyter.widget-state+json": {
    "state": {},
    "version_major": 2,
    "version_minor": 0
   }
  }
 },
 "nbformat": 4,
 "nbformat_minor": 5
}
