{
 "cells": [
  {
   "cell_type": "code",
   "execution_count": 1,
   "id": "6ceb008b-a8c3-4add-8c66-4d6f7a76f4df",
   "metadata": {},
   "outputs": [
    {
     "name": "stdout",
     "output_type": "stream",
     "text": [
      "set()\n"
     ]
    }
   ],
   "source": [
    "empty_set=set()\n",
    "print(empty_set)"
   ]
  },
  {
   "cell_type": "code",
   "execution_count": 3,
   "id": "d4679a6b-9fcd-422c-aea0-948b97682e2d",
   "metadata": {},
   "outputs": [
    {
     "name": "stdout",
     "output_type": "stream",
     "text": [
      "{1, 2, 3, 99, 33, 6, 66, 9, 77, 'jahangir', 666}\n"
     ]
    }
   ],
   "source": [
    "set1={99,2,77,1,99,3,9,2,9,33,6,66,666,6,\"jahangir\"}\n",
    "print(set1)"
   ]
  },
  {
   "cell_type": "code",
   "execution_count": 5,
   "id": "e6101469-c70b-4fa3-add0-680fc5ce89b3",
   "metadata": {},
   "outputs": [
    {
     "name": "stdout",
     "output_type": "stream",
     "text": [
      "{1, 2, 3, 99, 33, 6, 66, 9, 77, 'jahangir', 666, 'hussen'}\n"
     ]
    }
   ],
   "source": [
    "set1.add('hussen')\n",
    "print(set1)"
   ]
  },
  {
   "cell_type": "code",
   "execution_count": 6,
   "id": "920cc9f1-da9b-4b90-9115-4f3fc7d15bf0",
   "metadata": {},
   "outputs": [
    {
     "name": "stdout",
     "output_type": "stream",
     "text": [
      "{1, 2, 3, 99, 33, 6, 66, 9, 77, 'jahangir', 666}\n"
     ]
    }
   ],
   "source": [
    "set1.remove('hussen')\n",
    "print(set1)"
   ]
  },
  {
   "cell_type": "code",
   "execution_count": 8,
   "id": "703d6071-f2df-4908-81cf-78f13c324b26",
   "metadata": {},
   "outputs": [
    {
     "name": "stdout",
     "output_type": "stream",
     "text": [
      "frozenset({'apple', 'banana', 'cherry'})\n"
     ]
    }
   ],
   "source": [
    "immutable_fruits = frozenset(['apple', 'banana', 'cherry'])\n",
    "# immutable_fruits.add('orange')  # This will raise an AttributeError because frozensets are immutable\n",
    "print(immutable_fruits)"
   ]
  },
  {
   "cell_type": "code",
   "execution_count": 11,
   "id": "0cdac288-c346-4cdb-a637-9d9d52f78049",
   "metadata": {},
   "outputs": [
    {
     "name": "stdout",
     "output_type": "stream",
     "text": [
      "{'age': 22, 'section': '25A1', 'id': 'CSE2201025011'}\n",
      "only access age  22\n",
      "after update age  34\n"
     ]
    }
   ],
   "source": [
    "jahangir={\n",
    "    'age':22,\n",
    "    'section':'25A1',\n",
    "    'id':\"CSE2201025011\",\n",
    "}\n",
    "print(jahangir)\n",
    "print(\"only access age \",jahangir[\"age\"])\n",
    "jahangir[\"age\"]=34\n",
    "print(\"after update age \",jahangir[\"age\"])"
   ]
  },
  {
   "cell_type": "code",
   "execution_count": null,
   "id": "49bda62b-6fd0-4a8d-ac4b-99e351890a0a",
   "metadata": {},
   "outputs": [],
   "source": []
  },
  {
   "cell_type": "code",
   "execution_count": null,
   "id": "5cf4d13d-700c-4be1-88a0-bcae9149ba05",
   "metadata": {},
   "outputs": [],
   "source": []
  },
  {
   "cell_type": "code",
   "execution_count": null,
   "id": "e2713404-2086-45b2-9d12-a33ec08e80d8",
   "metadata": {},
   "outputs": [],
   "source": []
  }
 ],
 "metadata": {
  "kernelspec": {
   "display_name": "Python 3 (ipykernel)",
   "language": "python",
   "name": "python3"
  },
  "language_info": {
   "codemirror_mode": {
    "name": "ipython",
    "version": 3
   },
   "file_extension": ".py",
   "mimetype": "text/x-python",
   "name": "python",
   "nbconvert_exporter": "python",
   "pygments_lexer": "ipython3",
   "version": "3.12.3"
  },
  "widgets": {
   "application/vnd.jupyter.widget-state+json": {
    "state": {},
    "version_major": 2,
    "version_minor": 0
   }
  }
 },
 "nbformat": 4,
 "nbformat_minor": 5
}
