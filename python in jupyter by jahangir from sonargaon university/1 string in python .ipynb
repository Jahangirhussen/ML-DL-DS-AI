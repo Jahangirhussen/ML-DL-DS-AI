{
 "cells": [
  {
   "cell_type": "code",
   "execution_count": 1,
   "id": "b8a48795-cb5e-4332-89f8-dda116677cf7",
   "metadata": {},
   "outputs": [
    {
     "name": "stdout",
     "output_type": "stream",
     "text": [
      "Hey! this is jahangir , my id is  25A1 and this is my first string code ,that is simple code\n"
     ]
    }
   ],
   "source": [
    "text=\"Hey! this is jahangir ,\"\n",
    "section=\" 25A1\"\n",
    "print(text,\"my id is\",section ,\"and this is my first string code ,that is simple code\")"
   ]
  },
  {
   "cell_type": "code",
   "execution_count": 2,
   "id": "a38020db-d9e7-4f96-8ac5-dc7836d20985",
   "metadata": {},
   "outputs": [
    {
     "name": "stdout",
     "output_type": "stream",
     "text": [
      "15\n"
     ]
    }
   ],
   "source": [
    "name=\"JAHAngir hussen\"\n",
    "print(len(name)) #count string lenght"
   ]
  },
  {
   "cell_type": "code",
   "execution_count": 3,
   "id": "c9dd3c71-e04f-4d23-a650-61c6f551aa29",
   "metadata": {},
   "outputs": [
    {
     "name": "stdout",
     "output_type": "stream",
     "text": [
      "<class 'str'>\n"
     ]
    }
   ],
   "source": [
    "ID=\"CSE2201025011\"\n",
    "print(type(ID)) # find out string type"
   ]
  },
  {
   "cell_type": "code",
   "execution_count": 19,
   "id": "9e7d435e-685a-41af-980d-2e1d3d32a9c8",
   "metadata": {},
   "outputs": [
    {
     "name": "stdout",
     "output_type": "stream",
     "text": [
      "jahangir hussen.\n",
      "jahangir hussen.\n",
      "JAHANGIR HUSSEN.\n",
      "Jahangir hussen.\n",
      "jahangir HUSSEN.\n"
     ]
    }
   ],
   "source": [
    "name=\"JAHANGIR hussen.\"\n",
    "print(name.lower())# all string will be small\n",
    "print(name.casefold()) #as like lower\n",
    "print(name.upper()) # all string will be capital\n",
    "print(name.capitalize()) # just 1st latter will be capital\n",
    "print(name.swapcase()) #uppercase to lowarcase,and lowercase to upper case latter"
   ]
  },
  {
   "cell_type": "code",
   "execution_count": 5,
   "id": "deb9d9f5-6fd7-4ea2-913b-7d4f91337f07",
   "metadata": {},
   "outputs": [
    {
     "name": "stdout",
     "output_type": "stream",
     "text": [
      "9\n",
      "-1\n"
     ]
    }
   ],
   "source": [
    "name=\"jahangir hussen kawsar\"\n",
    "print(name.find(\"hussen\"))\n",
    "print(name.find(\"Hussen\"))"
   ]
  },
  {
   "cell_type": "code",
   "execution_count": 6,
   "id": "97699807-1107-41e3-8632-f5913412615e",
   "metadata": {},
   "outputs": [
    {
     "name": "stdout",
     "output_type": "stream",
     "text": [
      " deep learning enginner\n"
     ]
    }
   ],
   "source": [
    "text=\" machine learning enginner\"\n",
    "print(text.replace(\"machine\",\"deep\"))"
   ]
  },
  {
   "cell_type": "code",
   "execution_count": 7,
   "id": "1ea154ed-834d-4e22-b765-811a8d5d0873",
   "metadata": {},
   "outputs": [
    {
     "name": "stdout",
     "output_type": "stream",
     "text": [
      "kawsar is alpha ? True\n",
      "2201025011 is digit ? True\n",
      "kawsar 5011 is alpha ? False\n",
      "kawsar 5011 is digit ? False\n",
      "kawsar 5011 is space ? False\n",
      "     is space ? True\n",
      "True\n",
      "True\n",
      "True\n"
     ]
    }
   ],
   "source": [
    "text=\"kawsar\"   #  in string alpha or alphabet cheek\n",
    "print(text,\"is alpha ?\",text.isalpha())\n",
    "\n",
    "text=\"2201025011\" #  in string number cheek\n",
    "print(text,\"is digit ?\",text.isdigit())\n",
    "\n",
    "\n",
    "text=\"kawsar 5011\"   #  in string number and alpha mixed \n",
    "print(text,\"is alpha ?\",text.isalpha())\n",
    "print(text,\"is digit ?\",text.isdigit())\n",
    "print(text,\"is space ?\",text.isspace())\n",
    "\n",
    "text=\"    \"#  in string space cheek\n",
    "print(text,\"is space ?\",text.isspace())\n",
    "\n",
    "text= \"123\"\n",
    "print(text.isdecimal())\n",
    "text= \"hello\"\n",
    "print(text.isascii())\n",
    "\n",
    "text = \"hello123\"\n",
    "print(text.isalnum())#alpha and number mixed string"
   ]
  },
  {
   "cell_type": "code",
   "execution_count": 8,
   "id": "bd2c0c47-524e-457b-91c9-c61d5edaacb0",
   "metadata": {},
   "outputs": [
    {
     "name": "stdout",
     "output_type": "stream",
     "text": [
      "True\n",
      "True\n"
     ]
    }
   ],
   "source": [
    "text=\"my name is jahangir hussen kawsar,i'm from sylhet ,bangladesh\"\n",
    "print(text.startswith(\"my\"))\n",
    "print(text.endswith(\"bangladesh\"))"
   ]
  },
  {
   "cell_type": "code",
   "execution_count": 9,
   "id": "c923d79f-8d15-47f5-b134-2965c0b0245b",
   "metadata": {},
   "outputs": [
    {
     "name": "stdout",
     "output_type": "stream",
     "text": [
      "after remove spacess ,text is =  ,,  my name      is jahangir hussen kawsar,i'm from sylhet ,bangladesh   , ,,\n",
      "after after devide all word of string  ,text is =  [',,', 'my', 'name', 'is', 'jahangir', 'hussen', \"kawsar,i'm\", 'from', 'sylhet', ',bangladesh', ',', ',,']\n",
      "here access list any element is =  jahangir\n",
      "jahangir \n",
      " hussen \n",
      " kawsar.\n",
      "['jahangir ', ' hussen ', ' kawsar.']\n"
     ]
    }
   ],
   "source": [
    "text=\"   ,,  my name      is jahangir hussen kawsar,i'm from sylhet ,bangladesh   , ,,       \"\n",
    "print(\"after remove spacess ,text is = \",text.strip()) # strip remove before string start spaces and after string \"spaces\" \n",
    "print(\"after after devide all word of string  ,text is = \",text.split())#split devide word by a comma without count spacess and give us as a list\n",
    "text2=text.split()\n",
    "print(\"here access list any element is = \",text2[4])\n",
    "text3=\"jahangir \\n hussen \\n kawsar.\"\n",
    "print(text3)\n",
    "print(text3.splitlines()) #remove lines breacl than work as like split"
   ]
  },
  {
   "cell_type": "code",
   "execution_count": 10,
   "id": "59c5eed9-7803-40bb-92a9-d446f4eb9f1e",
   "metadata": {},
   "outputs": [
    {
     "name": "stdout",
     "output_type": "stream",
     "text": [
      "jawsar\n"
     ]
    }
   ],
   "source": [
    "s = \"kawsar\"\n",
    "print(s.replace('k', 'j'))"
   ]
  },
  {
   "cell_type": "code",
   "execution_count": 14,
   "id": "cd0d19ac-4590-4303-bc0e-78304bf32534",
   "metadata": {},
   "outputs": [
    {
     "name": "stdout",
     "output_type": "stream",
     "text": [
      "2\n",
      "2\n"
     ]
    }
   ],
   "source": [
    "s = \"jahangir hussen\"\n",
    "print( s.index('h'))# fine index number of first h\n",
    "print( s.index('ha'))# fine index number of first ha"
   ]
  },
  {
   "cell_type": "code",
   "execution_count": 18,
   "id": "fef961e3-1ce7-4cc1-bd7a-7b9fd1ba01f4",
   "metadata": {},
   "outputs": [
    {
     "name": "stdout",
     "output_type": "stream",
     "text": [
      "3\n",
      "2\n"
     ]
    }
   ],
   "source": [
    "j=\"ja ja js kkk ss\"\n",
    "print(j.count('j')) # count of word or single ALPHA\n",
    "print(j.count('ja'))"
   ]
  },
  {
   "cell_type": "code",
   "execution_count": 20,
   "id": "dafb74f5-97f3-4d34-a1f0-e509479b4ef6",
   "metadata": {},
   "outputs": [
    {
     "name": "stdout",
     "output_type": "stream",
     "text": [
      "65\n"
     ]
    }
   ],
   "source": [
    "print(ord('A')) # return ascii of char values"
   ]
  },
  {
   "cell_type": "code",
   "execution_count": null,
   "id": "83c7b75f-97a8-4c72-b828-5da06f3b1f2d",
   "metadata": {},
   "outputs": [],
   "source": []
  },
  {
   "cell_type": "code",
   "execution_count": null,
   "id": "ff31a524-4892-4db5-abf3-c1ca041cf673",
   "metadata": {},
   "outputs": [],
   "source": []
  }
 ],
 "metadata": {
  "kernelspec": {
   "display_name": "Python 3 (ipykernel)",
   "language": "python",
   "name": "python3"
  },
  "language_info": {
   "codemirror_mode": {
    "name": "ipython",
    "version": 3
   },
   "file_extension": ".py",
   "mimetype": "text/x-python",
   "name": "python",
   "nbconvert_exporter": "python",
   "pygments_lexer": "ipython3",
   "version": "3.12.3"
  }
 },
 "nbformat": 4,
 "nbformat_minor": 5
}
