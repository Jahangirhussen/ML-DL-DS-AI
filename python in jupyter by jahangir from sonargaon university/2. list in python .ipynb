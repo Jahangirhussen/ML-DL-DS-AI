{
 "cells": [
  {
   "cell_type": "code",
   "execution_count": 1,
   "id": "88e34141-b27e-4ca3-82c5-e041c6d2d0ed",
   "metadata": {},
   "outputs": [
    {
     "name": "stdout",
     "output_type": "stream",
     "text": [
      "[3, 8, 0, 9, 3, 10, 2, 21, 3]\n",
      "9\n"
     ]
    }
   ],
   "source": [
    "list1=[3,8,0,9,3,10,2,21,3]\n",
    "print(list1)\n",
    "print(list1[3])"
   ]
  },
  {
   "cell_type": "code",
   "execution_count": 2,
   "id": "95f65bb7-396f-4958-b524-096509ef0a32",
   "metadata": {},
   "outputs": [
    {
     "name": "stdout",
     "output_type": "stream",
     "text": [
      "[3, 8, 0, 9, 3, 10]\n",
      "[3, 99, 0, 9, 3, 10]\n"
     ]
    }
   ],
   "source": [
    "list1=[3,8,0,9,3,10]\n",
    "print(list1)\n",
    "list1[1]=99\n",
    "print(list1)"
   ]
  },
  {
   "cell_type": "code",
   "execution_count": 3,
   "id": "8ce6d18a-150d-442c-ae18-a48e87662321",
   "metadata": {},
   "outputs": [
    {
     "name": "stdout",
     "output_type": "stream",
     "text": [
      "[3, 99, 0, 9, 3, 10, 7, 8, 9]\n"
     ]
    }
   ],
   "source": [
    "list1.append(7)\n",
    "list1.append(8)\n",
    "list1.append(9)\n",
    "print(list1)"
   ]
  },
  {
   "cell_type": "code",
   "execution_count": 4,
   "id": "5af867d6-67e2-4857-ae81-176552c5ff2b",
   "metadata": {},
   "outputs": [
    {
     "name": "stdout",
     "output_type": "stream",
     "text": [
      "[3, 99, 0, 3, 10, 7, 8, 9]\n"
     ]
    }
   ],
   "source": [
    "#remove 1st 9 from the list\n",
    "list1.remove(9)\n",
    "print(list1)"
   ]
  },
  {
   "cell_type": "code",
   "execution_count": 5,
   "id": "f7e7b850-c997-4de0-a156-f22576fe0f4f",
   "metadata": {},
   "outputs": [
    {
     "name": "stdout",
     "output_type": "stream",
     "text": [
      "[3, 99, 3, 10, 7, 8, 9]\n"
     ]
    }
   ],
   "source": [
    "list1.remove(list1[2])\n",
    "print(list1)"
   ]
  },
  {
   "cell_type": "code",
   "execution_count": 6,
   "id": "95129fb3-38c2-4fb7-a552-befd92aada17",
   "metadata": {},
   "outputs": [
    {
     "name": "stdout",
     "output_type": "stream",
     "text": [
      "3\n",
      "99\n",
      "3\n",
      "10\n",
      "7\n",
      "8\n",
      "9\n"
     ]
    }
   ],
   "source": [
    "for x in list1:\n",
    "    print(x)"
   ]
  },
  {
   "cell_type": "code",
   "execution_count": 7,
   "id": "1e5f4bf9-4a93-4eba-a809-a74acf2fbbf5",
   "metadata": {},
   "outputs": [
    {
     "name": "stdout",
     "output_type": "stream",
     "text": [
      "-2\n",
      "1\n",
      "4\n",
      "7\n",
      "10\n"
     ]
    }
   ],
   "source": [
    "for x in range(-2,11,3):\n",
    "    print(x)"
   ]
  },
  {
   "cell_type": "code",
   "execution_count": 8,
   "id": "6a3dc15c-d9b5-451c-9f5c-62f237026883",
   "metadata": {},
   "outputs": [
    {
     "name": "stdout",
     "output_type": "stream",
     "text": [
      "[3, 3, 7, 8, 9, 10, 99]\n"
     ]
    }
   ],
   "source": [
    "list1.sort()\n",
    "print(list1)"
   ]
  },
  {
   "cell_type": "code",
   "execution_count": 9,
   "id": "2cf72e93-c2e3-41dd-bdb0-9b35296677bc",
   "metadata": {},
   "outputs": [
    {
     "name": "stdout",
     "output_type": "stream",
     "text": [
      "[3, 3, 7, 8, 9, 10, 99]\n"
     ]
    }
   ],
   "source": [
    "list2=list1.copy()\n",
    "print(list2)"
   ]
  },
  {
   "cell_type": "code",
   "execution_count": 10,
   "id": "42a22c22-59b3-4097-9c9d-4a50b4a192b9",
   "metadata": {},
   "outputs": [
    {
     "name": "stdout",
     "output_type": "stream",
     "text": [
      "[3, 3, 7, 8, 9, 10, 99]\n",
      "[3, 3, 7, 8, 9, 10, 99]\n",
      "[3, 3, 7, 8, 9, 10, 99, 3, 3, 7, 8, 9, 10, 99]\n"
     ]
    }
   ],
   "source": [
    "join_list=list1+list2\n",
    "print(list1)\n",
    "print(list2)\n",
    "print(join_list)"
   ]
  },
  {
   "cell_type": "code",
   "execution_count": 11,
   "id": "55555731-0b2e-4dc2-b198-3025e5497c9d",
   "metadata": {},
   "outputs": [
    {
     "name": "stdout",
     "output_type": "stream",
     "text": [
      "[3, 9, 78, 0, 2, [33, 4, 93, 909]]\n",
      "[3, 9, 78, 0, 2, 33, 4, 93, 909]\n"
     ]
    }
   ],
   "source": [
    "list1=[3,9,78,0,2]\n",
    "list2=[33,4,93,909]\n",
    "list1.append(list2)\n",
    "print(list1)\n",
    "\n",
    "list1=[3,9,78,0,2]\n",
    "list2=[33,4,93,909]#add full list as  a single element \n",
    "list1.extend(list2)#add list each as a single element\n",
    "print(list1)"
   ]
  },
  {
   "cell_type": "code",
   "execution_count": 12,
   "id": "022f9b00-52ce-42e4-ae88-3d2462b4986f",
   "metadata": {},
   "outputs": [
    {
     "name": "stdout",
     "output_type": "stream",
     "text": [
      "[2, 4, 6, 8]\n"
     ]
    }
   ],
   "source": [
    "numbers = [1, 2, 3, 4, 5, 6, 7, 8, 9]\n",
    "even_numbers = [x for x in numbers if x % 2 == 0]\n",
    "print(even_numbers)  # Output: [2, 4, 6, 8]"
   ]
  },
  {
   "cell_type": "code",
   "execution_count": null,
   "id": "55fb647c-b4e7-482a-9865-a61452cf885b",
   "metadata": {},
   "outputs": [],
   "source": []
  }
 ],
 "metadata": {
  "kernelspec": {
   "display_name": "Python 3 (ipykernel)",
   "language": "python",
   "name": "python3"
  },
  "language_info": {
   "codemirror_mode": {
    "name": "ipython",
    "version": 3
   },
   "file_extension": ".py",
   "mimetype": "text/x-python",
   "name": "python",
   "nbconvert_exporter": "python",
   "pygments_lexer": "ipython3",
   "version": "3.12.3"
  }
 },
 "nbformat": 4,
 "nbformat_minor": 5
}
