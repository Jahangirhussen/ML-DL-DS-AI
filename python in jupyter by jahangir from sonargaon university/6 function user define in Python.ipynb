{
 "cells": [
  {
   "cell_type": "code",
   "execution_count": 5,
   "id": "3242e18e-d4d2-45ba-a85d-f5f00f7c143c",
   "metadata": {},
   "outputs": [
    {
     "name": "stdout",
     "output_type": "stream",
     "text": [
      "my name is JAHANGIR  HUSSEN\n",
      "my age is  22\n"
     ]
    }
   ],
   "source": [
    "def name(first_name, last_name,age):\n",
    "    print(\"my name is\",first_name + \" \" + last_name)\n",
    "    print(\"my age is \",age)\n",
    "    \n",
    "name(\"JAHANGIR \", \"HUSSEN\",22)"
   ]
  },
  {
   "cell_type": "code",
   "execution_count": 9,
   "id": "7ed07506-6148-4cfc-9eaa-b9d34739cfdc",
   "metadata": {},
   "outputs": [
    {
     "name": "stdout",
     "output_type": "stream",
     "text": [
      "100\n"
     ]
    }
   ],
   "source": [
    "def math(number):\n",
    "  return (number*10)\n",
    "    \n",
    "print(math(10))    "
   ]
  },
  {
   "cell_type": "code",
   "execution_count": null,
   "id": "e4f122f5-235c-4734-9841-caac1d2756aa",
   "metadata": {},
   "outputs": [],
   "source": []
  }
 ],
 "metadata": {
  "kernelspec": {
   "display_name": "Python 3 (ipykernel)",
   "language": "python",
   "name": "python3"
  },
  "language_info": {
   "codemirror_mode": {
    "name": "ipython",
    "version": 3
   },
   "file_extension": ".py",
   "mimetype": "text/x-python",
   "name": "python",
   "nbconvert_exporter": "python",
   "pygments_lexer": "ipython3",
   "version": "3.12.3"
  },
  "widgets": {
   "application/vnd.jupyter.widget-state+json": {
    "state": {},
    "version_major": 2,
    "version_minor": 0
   }
  }
 },
 "nbformat": 4,
 "nbformat_minor": 5
}
